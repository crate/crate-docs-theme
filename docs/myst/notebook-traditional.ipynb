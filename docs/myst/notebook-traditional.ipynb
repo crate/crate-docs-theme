{
 "cells": [
  {
   "metadata": {},
   "cell_type": "markdown",
   "source": [
    "(notebook-traditional)=\n",
    "\n",
    "# Notebook (traditional)\n",
    "\n",
    "The documentation can include traditional Jupyter Notebooks in .ipynb JSON format.\n",
    "They are rendered using [MyST-NB].\n",
    "\n",
    "[MyST-NB]: https://myst-nb.readthedocs.io/\n"
   ]
  },
  {
   "metadata": {
    "ExecuteTime": {
     "end_time": "2025-01-11T21:09:38.185018Z",
     "start_time": "2025-01-11T21:09:38.179652Z"
    }
   },
   "cell_type": "code",
   "source": [
    "import sys\n",
    "print(\"this is some stdout\")\n",
    "print(\"this is some stderr\", file=sys.stderr)"
   ],
   "outputs": [
    {
     "name": "stdout",
     "output_type": "stream",
     "text": [
      "this is some stdout\n"
     ]
    },
    {
     "name": "stderr",
     "output_type": "stream",
     "text": [
      "this is some stderr\n"
     ]
    }
   ],
   "execution_count": 1
  },
  {
   "metadata": {},
   "cell_type": "markdown",
   "source": [
    ":::{tip}\n",
    "See also {ref}`notebook-text` and {ref}`cells`.\n",
    ":::\n"
   ]
  }
 ],
 "metadata": {
  "kernelspec": {
   "name": "python3",
   "language": "python",
   "display_name": "Python 3 (ipykernel)"
  }
 },
 "nbformat": 4,
 "nbformat_minor": 0
}
